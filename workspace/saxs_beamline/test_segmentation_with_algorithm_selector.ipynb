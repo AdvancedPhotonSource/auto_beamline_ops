{
 "cells": [
  {
   "cell_type": "code",
   "execution_count": 12,
   "id": "63f6bd82-6bc1-457a-873b-c205a4312670",
   "metadata": {},
   "outputs": [],
   "source": [
    "%load_ext autoreload\n",
    "%autoreload 2"
   ]
  },
  {
   "cell_type": "code",
   "execution_count": 13,
   "id": "8072fdb0-a7ce-440d-956c-af67834a34b7",
   "metadata": {},
   "outputs": [],
   "source": [
    "import sys\n",
    "import os\n",
    "import glob\n",
    "\n",
    "import tifffile\n",
    "from skimage.color import rgb2gray\n",
    "import matplotlib.pyplot as plt\n",
    "\n",
    "import autobl.segmentation"
   ]
  },
  {
   "cell_type": "code",
   "execution_count": 14,
   "id": "a4982a8f-bcc1-46ea-b881-229b8c6cf7e5",
   "metadata": {},
   "outputs": [],
   "source": [
    "img_cell = tifffile.imread(os.path.join('data', 'raw', 'cell_bw_1s_000.tif'))\n",
    "img_capillary = tifffile.imread(os.path.join('data', 'raw', 'capillaryl_bw_0p015_000.tif'))"
   ]
  },
  {
   "cell_type": "code",
   "execution_count": 135,
   "id": "cd6630e8-dbaf-49a2-b829-be61c22772d1",
   "metadata": {},
   "outputs": [],
   "source": [
    "seg_alg_selector = autobl.segmentation.SegmentationAlgorithmSelector(downsample=4, method='gradient_distribution')"
   ]
  },
  {
   "cell_type": "code",
   "execution_count": 136,
   "id": "c015dd6f-2b79-4371-adc2-c2d1fe37725c",
   "metadata": {},
   "outputs": [
    {
     "name": "stdout",
     "output_type": "stream",
     "text": [
      "[ 1.90886894e-07 -7.85081721e-06] [-0.09679631163238434, 0.06947494767806507] [-0.08882119675191134, 0.08933821431826121]\n"
     ]
    },
    {
     "name": "stderr",
     "output_type": "stream",
     "text": [
      "/home/beams/MINGDU/anaconda3/envs/botorch/lib/python3.11/site-packages/skimage/transform/radon_transform.py:75: UserWarning: Radon transform: image must be zero outside the reconstruction circle\n",
      "  warn('Radon transform: image must be zero outside the '\n"
     ]
    },
    {
     "data": {
      "text/plain": [
       "autobl.segmentation.BubbleSegmentor"
      ]
     },
     "execution_count": 136,
     "metadata": {},
     "output_type": "execute_result"
    }
   ],
   "source": [
    "seg_alg_selector.set_camera_image(img_cell)\n",
    "seg_alg_selector.run_selection()"
   ]
  },
  {
   "cell_type": "code",
   "execution_count": 137,
   "id": "4e3a916f-8ed3-4057-b753-0c6a4fbd79cd",
   "metadata": {},
   "outputs": [
    {
     "name": "stdout",
     "output_type": "stream",
     "text": [
      "[-2.53861296e-07 -4.10498630e-05] [-0.07629504696458732, 0.07872213201926183] [-0.08446884060755118, 0.036224705427404545]\n"
     ]
    },
    {
     "name": "stderr",
     "output_type": "stream",
     "text": [
      "/home/beams/MINGDU/anaconda3/envs/botorch/lib/python3.11/site-packages/skimage/transform/radon_transform.py:75: UserWarning: Radon transform: image must be zero outside the reconstruction circle\n",
      "  warn('Radon transform: image must be zero outside the '\n"
     ]
    },
    {
     "data": {
      "text/plain": [
       "autobl.segmentation.CapillarySegmentor"
      ]
     },
     "execution_count": 137,
     "metadata": {},
     "output_type": "execute_result"
    }
   ],
   "source": [
    "seg_alg_selector.set_camera_image(img_capillary)\n",
    "seg_alg_selector.run_selection()"
   ]
  },
  {
   "cell_type": "code",
   "execution_count": null,
   "id": "01f9ed24-f8dc-4242-bed9-f9ead28eab40",
   "metadata": {},
   "outputs": [],
   "source": []
  },
  {
   "cell_type": "code",
   "execution_count": null,
   "id": "d1384403-2fda-40db-9c92-23dab98b9319",
   "metadata": {},
   "outputs": [],
   "source": []
  }
 ],
 "metadata": {
  "kernelspec": {
   "display_name": "Python 3 (ipykernel)",
   "language": "python",
   "name": "python3"
  },
  "language_info": {
   "codemirror_mode": {
    "name": "ipython",
    "version": 3
   },
   "file_extension": ".py",
   "mimetype": "text/x-python",
   "name": "python",
   "nbconvert_exporter": "python",
   "pygments_lexer": "ipython3",
   "version": "3.11.6"
  }
 },
 "nbformat": 4,
 "nbformat_minor": 5
}
