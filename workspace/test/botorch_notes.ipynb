{
 "cells": [
  {
   "cell_type": "markdown",
   "id": "42a316ae-a7af-49f4-8f73-4f1249bb44f7",
   "metadata": {},
   "source": [
    "# BoTorch notes"
   ]
  },
  {
   "cell_type": "markdown",
   "id": "3da9c9eb-52e4-45fe-947b-05c21ec94a9d",
   "metadata": {},
   "source": [
    "Here we present several experiments done with BoTorch with an aim to understand the usage and behaviors of its components. "
   ]
  },
  {
   "cell_type": "markdown",
   "id": "1b9df7c0-30d2-4bbf-8f22-17db7406a701",
   "metadata": {},
   "source": [
    "# Preparation of toy data"
   ]
  },
  {
   "cell_type": "code",
   "execution_count": 3,
   "id": "ab4e6774-f947-4488-be05-302337954154",
   "metadata": {},
   "outputs": [],
   "source": [
    "import torch\n",
    "from botorch.models import SingleTaskGP\n",
    "from botorch.fit import fit_gpytorch_mll\n",
    "from gpytorch.mlls import ExactMarginalLogLikelihood\n",
    "from botorch.acquisition import UpperConfidenceBound, qUpperConfidenceBound\n",
    "from botorch.optim import optimize_acqf\n",
    "\n",
    "from autobl.steering.measurement import *\n",
    "from autobl.util import *"
   ]
  },
  {
   "cell_type": "markdown",
   "id": "277f838f-7b99-4505-96ab-987507aa8979",
   "metadata": {},
   "source": [
    "Define a measurement simulator that returns values from the function $(x - 0.6)^2 + \\epsilon$, where $\\epsilon \\sim U(0, 0.001)$ is additive noise. "
   ]
  },
  {
   "cell_type": "code",
   "execution_count": 4,
   "id": "8387a4c2-25c7-4cd4-94c8-22bb02d7fde9",
   "metadata": {},
   "outputs": [],
   "source": [
    "def measurement_func(x: torch.Tensor):\n",
    "    y = -(x - 0.6) ** 2\n",
    "    y = y + 0.001 * torch.randn_like(y)\n",
    "    return y\n",
    "\n",
    "measurement = SimulatedMeasurement(f=measurement_func)\n",
    "\n",
    "train_x = torch.rand(10, 1).double()\n",
    "train_y = measurement.measure(train_x)"
   ]
  },
  {
   "cell_type": "markdown",
   "id": "686723e8-49d4-43c3-b80e-0bf9679166f7",
   "metadata": {},
   "source": [
    "Define and fit model. "
   ]
  },
  {
   "cell_type": "code",
   "execution_count": 5,
   "id": "f7752b6c-c1c4-4621-a5aa-9a099532a3f1",
   "metadata": {
    "scrolled": true
   },
   "outputs": [
    {
     "name": "stderr",
     "output_type": "stream",
     "text": [
      "/home/beams/MINGDU/anaconda3/envs/botorch/lib/python3.11/site-packages/botorch/models/utils/assorted.py:201: InputDataWarning: Input data is not standardized (mean = tensor([-0.0951], dtype=torch.float64), std = tensor([0.0984], dtype=torch.float64)). Please consider scaling the input to zero mean and unit variance.\n",
      "  warnings.warn(msg, InputDataWarning)\n"
     ]
    },
    {
     "data": {
      "text/plain": [
       "ExactMarginalLogLikelihood(\n",
       "  (likelihood): GaussianLikelihood(\n",
       "    (noise_covar): HomoskedasticNoise(\n",
       "      (noise_prior): GammaPrior()\n",
       "      (raw_noise_constraint): GreaterThan(1.000E-04)\n",
       "    )\n",
       "  )\n",
       "  (model): SingleTaskGP(\n",
       "    (likelihood): GaussianLikelihood(\n",
       "      (noise_covar): HomoskedasticNoise(\n",
       "        (noise_prior): GammaPrior()\n",
       "        (raw_noise_constraint): GreaterThan(1.000E-04)\n",
       "      )\n",
       "    )\n",
       "    (mean_module): ConstantMean()\n",
       "    (covar_module): ScaleKernel(\n",
       "      (base_kernel): MaternKernel(\n",
       "        (lengthscale_prior): GammaPrior()\n",
       "        (raw_lengthscale_constraint): Positive()\n",
       "      )\n",
       "      (outputscale_prior): GammaPrior()\n",
       "      (raw_outputscale_constraint): Positive()\n",
       "    )\n",
       "  )\n",
       ")"
      ]
     },
     "execution_count": 5,
     "metadata": {},
     "output_type": "execute_result"
    }
   ],
   "source": [
    "gp = SingleTaskGP(train_x, train_y)\n",
    "mll = ExactMarginalLogLikelihood(gp.likelihood, gp)\n",
    "fit_gpytorch_mll(mll)"
   ]
  },
  {
   "cell_type": "markdown",
   "id": "4dda9259-ef52-4313-985f-948595b5d202",
   "metadata": {},
   "source": [
    "## Monte-Carlo acquisition functions (q-acquisition functions)"
   ]
  },
  {
   "cell_type": "markdown",
   "id": "6c860f24-b920-4bfb-a49a-cf2c9ea5d542",
   "metadata": {},
   "source": [
    "BoTorch has both analytical acquisition functions and Monte-Carlo acquisition functions. \n",
    "\n",
    "Analytical functions expect an input of shape `[b, d]` or `[b, 1, d]`, where `b` is the batch size (or \"b-batch\" size as denoted in the official documentation). The `1` in the latter case explicitly specifies that the input has a \"q-batch\" size of 1. \n",
    "\n",
    "The q-batch can only be greater than 1 when a Monte-Carlo acquisition function is used. For all points given in a q-batch, the function evaluates the values at these points, then returns the maximum value among them. "
   ]
  },
  {
   "cell_type": "code",
   "execution_count": 6,
   "id": "92a1ec7e-e73d-4a23-8c5b-f174eaa0de35",
   "metadata": {},
   "outputs": [
    {
     "name": "stdout",
     "output_type": "stream",
     "text": [
      "torch.Size([3, 1, 1])\n",
      "tensor([ 0.0028, -0.0315, -0.0392], dtype=torch.float64,\n",
      "       grad_fn=<AddBackward0>)\n"
     ]
    }
   ],
   "source": [
    "UCB = UpperConfidenceBound(gp, beta=0.1)\n",
    "x = torch.tensor([[[0.6]], [[0.4]], [[0.8]]])\n",
    "print(x.shape)\n",
    "print(UCB(x))"
   ]
  },
  {
   "cell_type": "markdown",
   "id": "9ecf0ce3-c9c2-427c-9f5a-bbe26e0166f5",
   "metadata": {},
   "source": [
    "Below is an example of evaluating the q-UCB acquisition function. The input x has a b-batch size of 3 and a q-batch size of 4. The acquisition function returns 3 values for each b-batch. Each value is the maximum of the function values calculated at all points in the q-batch. "
   ]
  },
  {
   "cell_type": "code",
   "execution_count": 9,
   "id": "cbbfd211-9064-495f-93f1-c4baffbdaf66",
   "metadata": {},
   "outputs": [
    {
     "name": "stdout",
     "output_type": "stream",
     "text": [
      "torch.Size([3, 4, 1])\n",
      "tensor([ 0.0030, -0.0243, -0.0351], dtype=torch.float64,\n",
      "       grad_fn=<MeanBackward1>)\n"
     ]
    }
   ],
   "source": [
    "qUCB = qUpperConfidenceBound(gp, beta=0.1)\n",
    "x = torch.tensor([[[0.6], [0.61], [0.59], [0.58]], [[0.4], [0.39], [0.41], [0.42]], [[0.8], [0.79], [0.81], [0.82]]])\n",
    "print(x.shape)\n",
    "print(qUCB(x))"
   ]
  },
  {
   "cell_type": "markdown",
   "id": "5c9d66e4-07db-4785-9c1f-bcd7b8ee77e2",
   "metadata": {},
   "source": [
    "When the q-batch size is 1, MC acquisition functions behave the same as their analytical counterparts. "
   ]
  },
  {
   "cell_type": "code",
   "execution_count": 10,
   "id": "2c538ccc-2fd9-40ad-aabb-cffdd2f2c4f3",
   "metadata": {},
   "outputs": [
    {
     "name": "stdout",
     "output_type": "stream",
     "text": [
      "torch.Size([3, 1, 1])\n",
      "tensor([ 0.0028, -0.0315, -0.0392], dtype=torch.float64,\n",
      "       grad_fn=<MeanBackward1>)\n"
     ]
    }
   ],
   "source": [
    "x = torch.tensor([[[0.6]], [[0.4]], [[0.8]]])\n",
    "print(x.shape)\n",
    "print(qUCB(x))"
   ]
  },
  {
   "cell_type": "markdown",
   "id": "8d5fd27b-3988-4685-894b-4a0246053582",
   "metadata": {},
   "source": [
    "### Getting multiple candidates through `optimize_acqf` using MC acquisition functions"
   ]
  },
  {
   "cell_type": "markdown",
   "id": "02cbf89e-c7e7-414a-b135-69fb210766d0",
   "metadata": {},
   "source": [
    "When using an MC acquisition function, `optimize_acqf` returns `q` candidates at a time. "
   ]
  },
  {
   "cell_type": "code",
   "execution_count": 12,
   "id": "1ace621d-0abe-4836-b075-ded8635390f1",
   "metadata": {},
   "outputs": [
    {
     "data": {
      "text/plain": [
       "tensor([[0.5799],\n",
       "        [0.8673],\n",
       "        [0.6048]])"
      ]
     },
     "execution_count": 12,
     "metadata": {},
     "output_type": "execute_result"
    }
   ],
   "source": [
    "bounds = torch.stack([torch.zeros(1), torch.ones(1)])\n",
    "candidate, acq_value = optimize_acqf(\n",
    "    qUCB, bounds=bounds, q=3, num_restarts=5, raw_samples=20,\n",
    ")\n",
    "candidate"
   ]
  },
  {
   "cell_type": "code",
   "execution_count": null,
   "id": "5b5345d4-8cd4-410f-ab54-7dfcd10054aa",
   "metadata": {},
   "outputs": [],
   "source": []
  }
 ],
 "metadata": {
  "kernelspec": {
   "display_name": "Python 3 (ipykernel)",
   "language": "python",
   "name": "python3"
  },
  "language_info": {
   "codemirror_mode": {
    "name": "ipython",
    "version": 3
   },
   "file_extension": ".py",
   "mimetype": "text/x-python",
   "name": "python",
   "nbconvert_exporter": "python",
   "pygments_lexer": "ipython3",
   "version": "3.11.6"
  }
 },
 "nbformat": 4,
 "nbformat_minor": 5
}
